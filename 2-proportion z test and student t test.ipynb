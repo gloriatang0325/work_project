{
 "cells": [
  {
   "cell_type": "code",
   "execution_count": 1,
   "metadata": {},
   "outputs": [],
   "source": [
    "#import the libraries\n",
    "import numpy as np\n",
    "import pandas as pd\n",
    "%matplotlib inline \n",
    "import matplotlib as mpl\n",
    "import matplotlib.pyplot as plt\n",
    "from scipy import stats"
   ]
  },
  {
   "cell_type": "code",
   "execution_count": null,
   "metadata": {},
   "outputs": [],
   "source": []
  },
  {
   "cell_type": "markdown",
   "metadata": {},
   "source": [
    "<a id=\"ref1\"></a>\n",
    "## Compare EMPA Program and Other Fee-based Programs using Hypothesis Testing"
   ]
  },
  {
   "cell_type": "markdown",
   "metadata": {},
   "source": [
    "<a id=\"ref1\"></a>\n",
    "## Statistical Background"
   ]
  },
  {
   "cell_type": "markdown",
   "metadata": {},
   "source": [
    "**A. What is Hypothesis Testing? and why do we use Hypothesis Testing?**"
   ]
  },
  {
   "cell_type": "markdown",
   "metadata": {},
   "source": [
    "In statistics, when we wish to start asking questions about the data and interpret the results, we use statistical methods that provide a confidence or likelihood about the answers. In general, this class of methods is called statistical hypothesis testing, or significance tests. In statistics, a hypothesis test calculates some quantity under a given assumption. The result of the test allows us to interpret whether the assumption holds or whether the assumption has been violated. <br>\n",
    "\n",
    "The reason why we use hypothesis testing is that often we cannot make conclusions about the whole population just based on one sample data. The findings we inferred from the dataset can happen just by chance. When we say that a finding is statistically significant, it’s thanks to a hypothesis test."
   ]
  },
  {
   "cell_type": "markdown",
   "metadata": {},
   "source": [
    "**B. A few terms that will be used in the following analaysis:**"
   ]
  },
  {
   "cell_type": "markdown",
   "metadata": {},
   "source": [
    "1. Null Hypothesis(H0): H0 always assume there is no significant effect/difference within the specified population at some level of significance.\n",
    "2. Alternative Hypothesis(H1): H1 always has opposite opinion with H0.\n",
    "3. P-value: P-value is the probability of obtaining a result at least as extreme, given that H0 was true.\n",
    "4. Alpha(level of significance): Alpha is the pre-defined probability of rejecting H0, given that the H0 is true (a type I error). In other words, if P-value is lower than alpha, it means: in the observations, the chance reject the true H0 is low, so we are in favor of H1. A common value used for alpha is 5% or 0.05. "
   ]
  },
  {
   "cell_type": "markdown",
   "metadata": {},
   "source": [
    "**C. When do we reject the null hypothesis H0?**"
   ]
  },
  {
   "cell_type": "markdown",
   "metadata": {},
   "source": [
    "**If the P-value is lower than the predefined significant level(alpha significant level), then we reject H0 in favor of H1 because there is enough evidence to prove the H0 is wrong.**"
   ]
  },
  {
   "cell_type": "markdown",
   "metadata": {},
   "source": [
    "**D. Why do we use Student’s t-test(2-sample t-test) and 2-proportion z-tests in this analysis?**"
   ]
  },
  {
   "cell_type": "markdown",
   "metadata": {},
   "source": [
    "*This analysis is divided into three sections, which analyze Question 3, Question 6, and Question 12's data from Master's Exit Surveys respectively with 2-sample t-tests and 2-proportion z-tests.*"
   ]
  },
  {
   "cell_type": "markdown",
   "metadata": {},
   "source": [
    "Student's t-test and 2-proportion z-test are types of hypothesis testing. Student's T-test is used to determine whether there is a significant difference between the means of two groups. 2-Proportion Z-test is used to compare proportions from 2 independent samples.<br>\n",
    "\n",
    "In our case, we want to know if our previous findings from sample data visualization are statistically significant. When we compare the average ratings on different items from EMPA students and other fee-based program students, we use Student's T-test; when we compare proportions of poor&fair ratings given by the EMPA students and other fee-based program students, we use 2-Proportion Z-test."
   ]
  },
  {
   "cell_type": "markdown",
   "metadata": {},
   "source": [
    "<a id=\"ref1\"></a>\n",
    "## Section 1"
   ]
  },
  {
   "cell_type": "markdown",
   "metadata": {},
   "source": [
    "From our previous data visualization, the EMPA program needs the most improvement in the following category:\n",
    "1. Inclusion of diverse perspectives (political, religious, racial/ethnic, gender, sexual orientation, etc.) in course discussions or assignments(Q3_6)\n",
    "2. Extent to which the program has kept pace with recent trends and developments in your field(Q3_4)\n",
    "3. Benefit versus cost of the program(Q3_7)\n",
    "4. Overall quality(Q3_1)"
   ]
  },
  {
   "cell_type": "markdown",
   "metadata": {},
   "source": [
    "Let's test the statistical significance!"
   ]
  },
  {
   "cell_type": "markdown",
   "metadata": {},
   "source": [
    "**Data Import**"
   ]
  },
  {
   "cell_type": "code",
   "execution_count": 2,
   "metadata": {},
   "outputs": [],
   "source": [
    "df= pd.read_csv(\"C:\\\\Users\\\\gtang\\\\Desktop\\\\MES\\\\MES_N_3.csv\")"
   ]
  },
  {
   "cell_type": "code",
   "execution_count": 3,
   "metadata": {},
   "outputs": [],
   "source": [
    "df_empa=df[(df.major=='EMPA')]"
   ]
  },
  {
   "cell_type": "code",
   "execution_count": 4,
   "metadata": {},
   "outputs": [
    {
     "name": "stderr",
     "output_type": "stream",
     "text": [
      "C:\\ProgramData\\Anaconda3\\lib\\site-packages\\ipykernel_launcher.py:1: SettingWithCopyWarning: \n",
      "A value is trying to be set on a copy of a slice from a DataFrame\n",
      "\n",
      "See the caveats in the documentation: http://pandas.pydata.org/pandas-docs/stable/indexing.html#indexing-view-versus-copy\n",
      "  \"\"\"Entry point for launching an IPython kernel.\n"
     ]
    }
   ],
   "source": [
    "df_empa.dropna(inplace=True)"
   ]
  },
  {
   "cell_type": "code",
   "execution_count": 5,
   "metadata": {},
   "outputs": [
    {
     "name": "stderr",
     "output_type": "stream",
     "text": [
      "C:\\ProgramData\\Anaconda3\\lib\\site-packages\\ipykernel_launcher.py:2: SettingWithCopyWarning: \n",
      "A value is trying to be set on a copy of a slice from a DataFrame\n",
      "\n",
      "See the caveats in the documentation: http://pandas.pydata.org/pandas-docs/stable/indexing.html#indexing-view-versus-copy\n",
      "  \n"
     ]
    }
   ],
   "source": [
    "df_others=df[(df.major!='EMPA')]\n",
    "df_others.dropna(inplace=True)"
   ]
  },
  {
   "cell_type": "code",
   "execution_count": 7,
   "metadata": {},
   "outputs": [
    {
     "data": {
      "text/html": [
       "<div>\n",
       "<style scoped>\n",
       "    .dataframe tbody tr th:only-of-type {\n",
       "        vertical-align: middle;\n",
       "    }\n",
       "\n",
       "    .dataframe tbody tr th {\n",
       "        vertical-align: top;\n",
       "    }\n",
       "\n",
       "    .dataframe thead th {\n",
       "        text-align: right;\n",
       "    }\n",
       "</style>\n",
       "<table border=\"1\" class=\"dataframe\">\n",
       "  <thead>\n",
       "    <tr style=\"text-align: right;\">\n",
       "      <th></th>\n",
       "      <th>Q3_1</th>\n",
       "      <th>Q3_2</th>\n",
       "      <th>Q3_3</th>\n",
       "      <th>Q3_4</th>\n",
       "      <th>Q3_5</th>\n",
       "      <th>Q3_6</th>\n",
       "      <th>Q3_7</th>\n",
       "      <th>major</th>\n",
       "    </tr>\n",
       "  </thead>\n",
       "  <tbody>\n",
       "    <tr>\n",
       "      <th>0</th>\n",
       "      <td>4.0</td>\n",
       "      <td>4.0</td>\n",
       "      <td>4.0</td>\n",
       "      <td>4.0</td>\n",
       "      <td>3.0</td>\n",
       "      <td>3.0</td>\n",
       "      <td>3.0</td>\n",
       "      <td>NURSX</td>\n",
       "    </tr>\n",
       "    <tr>\n",
       "      <th>2</th>\n",
       "      <td>4.0</td>\n",
       "      <td>5.0</td>\n",
       "      <td>4.0</td>\n",
       "      <td>5.0</td>\n",
       "      <td>3.0</td>\n",
       "      <td>5.0</td>\n",
       "      <td>4.0</td>\n",
       "      <td>SOCWEH</td>\n",
       "    </tr>\n",
       "    <tr>\n",
       "      <th>3</th>\n",
       "      <td>5.0</td>\n",
       "      <td>5.0</td>\n",
       "      <td>5.0</td>\n",
       "      <td>5.0</td>\n",
       "      <td>5.0</td>\n",
       "      <td>5.0</td>\n",
       "      <td>2.0</td>\n",
       "      <td>BIOMRX</td>\n",
       "    </tr>\n",
       "    <tr>\n",
       "      <th>4</th>\n",
       "      <td>4.0</td>\n",
       "      <td>4.0</td>\n",
       "      <td>5.0</td>\n",
       "      <td>4.0</td>\n",
       "      <td>3.0</td>\n",
       "      <td>4.0</td>\n",
       "      <td>3.0</td>\n",
       "      <td>SOCWEH</td>\n",
       "    </tr>\n",
       "    <tr>\n",
       "      <th>5</th>\n",
       "      <td>3.0</td>\n",
       "      <td>3.0</td>\n",
       "      <td>3.0</td>\n",
       "      <td>3.0</td>\n",
       "      <td>3.0</td>\n",
       "      <td>3.0</td>\n",
       "      <td>3.0</td>\n",
       "      <td>HCDEE</td>\n",
       "    </tr>\n",
       "    <tr>\n",
       "      <th>6</th>\n",
       "      <td>4.0</td>\n",
       "      <td>4.0</td>\n",
       "      <td>4.0</td>\n",
       "      <td>4.0</td>\n",
       "      <td>4.0</td>\n",
       "      <td>4.0</td>\n",
       "      <td>4.0</td>\n",
       "      <td>MEDXM</td>\n",
       "    </tr>\n",
       "    <tr>\n",
       "      <th>7</th>\n",
       "      <td>4.0</td>\n",
       "      <td>4.0</td>\n",
       "      <td>3.0</td>\n",
       "      <td>4.0</td>\n",
       "      <td>3.0</td>\n",
       "      <td>1.0</td>\n",
       "      <td>1.0</td>\n",
       "      <td>HA GX</td>\n",
       "    </tr>\n",
       "    <tr>\n",
       "      <th>8</th>\n",
       "      <td>5.0</td>\n",
       "      <td>4.0</td>\n",
       "      <td>5.0</td>\n",
       "      <td>5.0</td>\n",
       "      <td>5.0</td>\n",
       "      <td>5.0</td>\n",
       "      <td>4.0</td>\n",
       "      <td>LIS X</td>\n",
       "    </tr>\n",
       "    <tr>\n",
       "      <th>9</th>\n",
       "      <td>4.0</td>\n",
       "      <td>4.0</td>\n",
       "      <td>4.0</td>\n",
       "      <td>4.0</td>\n",
       "      <td>4.0</td>\n",
       "      <td>4.0</td>\n",
       "      <td>4.0</td>\n",
       "      <td>COM E</td>\n",
       "    </tr>\n",
       "    <tr>\n",
       "      <th>10</th>\n",
       "      <td>4.0</td>\n",
       "      <td>4.0</td>\n",
       "      <td>3.0</td>\n",
       "      <td>3.0</td>\n",
       "      <td>5.0</td>\n",
       "      <td>5.0</td>\n",
       "      <td>4.0</td>\n",
       "      <td>MBA EX</td>\n",
       "    </tr>\n",
       "    <tr>\n",
       "      <th>11</th>\n",
       "      <td>5.0</td>\n",
       "      <td>5.0</td>\n",
       "      <td>5.0</td>\n",
       "      <td>5.0</td>\n",
       "      <td>5.0</td>\n",
       "      <td>3.0</td>\n",
       "      <td>5.0</td>\n",
       "      <td>CFRM</td>\n",
       "    </tr>\n",
       "    <tr>\n",
       "      <th>13</th>\n",
       "      <td>2.0</td>\n",
       "      <td>2.0</td>\n",
       "      <td>1.0</td>\n",
       "      <td>1.0</td>\n",
       "      <td>2.0</td>\n",
       "      <td>2.0</td>\n",
       "      <td>2.0</td>\n",
       "      <td>SOCWEH</td>\n",
       "    </tr>\n",
       "    <tr>\n",
       "      <th>14</th>\n",
       "      <td>4.0</td>\n",
       "      <td>4.0</td>\n",
       "      <td>4.0</td>\n",
       "      <td>4.0</td>\n",
       "      <td>5.0</td>\n",
       "      <td>5.0</td>\n",
       "      <td>5.0</td>\n",
       "      <td>MBA EX</td>\n",
       "    </tr>\n",
       "    <tr>\n",
       "      <th>15</th>\n",
       "      <td>4.0</td>\n",
       "      <td>4.0</td>\n",
       "      <td>3.0</td>\n",
       "      <td>3.0</td>\n",
       "      <td>4.0</td>\n",
       "      <td>4.0</td>\n",
       "      <td>2.0</td>\n",
       "      <td>NURSX</td>\n",
       "    </tr>\n",
       "    <tr>\n",
       "      <th>18</th>\n",
       "      <td>4.0</td>\n",
       "      <td>4.0</td>\n",
       "      <td>3.0</td>\n",
       "      <td>4.0</td>\n",
       "      <td>5.0</td>\n",
       "      <td>3.0</td>\n",
       "      <td>5.0</td>\n",
       "      <td>E E</td>\n",
       "    </tr>\n",
       "    <tr>\n",
       "      <th>19</th>\n",
       "      <td>4.0</td>\n",
       "      <td>4.0</td>\n",
       "      <td>3.0</td>\n",
       "      <td>4.0</td>\n",
       "      <td>5.0</td>\n",
       "      <td>3.0</td>\n",
       "      <td>5.0</td>\n",
       "      <td>E E</td>\n",
       "    </tr>\n",
       "    <tr>\n",
       "      <th>20</th>\n",
       "      <td>4.0</td>\n",
       "      <td>4.0</td>\n",
       "      <td>4.0</td>\n",
       "      <td>5.0</td>\n",
       "      <td>4.0</td>\n",
       "      <td>4.0</td>\n",
       "      <td>4.0</td>\n",
       "      <td>COM E</td>\n",
       "    </tr>\n",
       "    <tr>\n",
       "      <th>21</th>\n",
       "      <td>3.0</td>\n",
       "      <td>3.0</td>\n",
       "      <td>4.0</td>\n",
       "      <td>3.0</td>\n",
       "      <td>3.0</td>\n",
       "      <td>3.0</td>\n",
       "      <td>1.0</td>\n",
       "      <td>E E</td>\n",
       "    </tr>\n",
       "    <tr>\n",
       "      <th>23</th>\n",
       "      <td>4.0</td>\n",
       "      <td>3.0</td>\n",
       "      <td>4.0</td>\n",
       "      <td>4.0</td>\n",
       "      <td>4.0</td>\n",
       "      <td>4.0</td>\n",
       "      <td>3.0</td>\n",
       "      <td>MBA EX</td>\n",
       "    </tr>\n",
       "    <tr>\n",
       "      <th>24</th>\n",
       "      <td>4.0</td>\n",
       "      <td>5.0</td>\n",
       "      <td>4.0</td>\n",
       "      <td>4.0</td>\n",
       "      <td>4.0</td>\n",
       "      <td>3.0</td>\n",
       "      <td>3.0</td>\n",
       "      <td>M E</td>\n",
       "    </tr>\n",
       "    <tr>\n",
       "      <th>25</th>\n",
       "      <td>3.0</td>\n",
       "      <td>3.0</td>\n",
       "      <td>3.0</td>\n",
       "      <td>3.0</td>\n",
       "      <td>3.0</td>\n",
       "      <td>3.0</td>\n",
       "      <td>3.0</td>\n",
       "      <td>IND E</td>\n",
       "    </tr>\n",
       "    <tr>\n",
       "      <th>26</th>\n",
       "      <td>4.0</td>\n",
       "      <td>4.0</td>\n",
       "      <td>4.0</td>\n",
       "      <td>4.0</td>\n",
       "      <td>4.0</td>\n",
       "      <td>4.0</td>\n",
       "      <td>4.0</td>\n",
       "      <td>LING</td>\n",
       "    </tr>\n",
       "    <tr>\n",
       "      <th>27</th>\n",
       "      <td>5.0</td>\n",
       "      <td>5.0</td>\n",
       "      <td>4.0</td>\n",
       "      <td>5.0</td>\n",
       "      <td>5.0</td>\n",
       "      <td>3.0</td>\n",
       "      <td>3.0</td>\n",
       "      <td>CFRM</td>\n",
       "    </tr>\n",
       "    <tr>\n",
       "      <th>28</th>\n",
       "      <td>3.0</td>\n",
       "      <td>4.0</td>\n",
       "      <td>2.0</td>\n",
       "      <td>2.0</td>\n",
       "      <td>5.0</td>\n",
       "      <td>5.0</td>\n",
       "      <td>2.0</td>\n",
       "      <td>LIS X</td>\n",
       "    </tr>\n",
       "    <tr>\n",
       "      <th>29</th>\n",
       "      <td>4.0</td>\n",
       "      <td>5.0</td>\n",
       "      <td>4.0</td>\n",
       "      <td>4.0</td>\n",
       "      <td>4.0</td>\n",
       "      <td>3.0</td>\n",
       "      <td>3.0</td>\n",
       "      <td>M E</td>\n",
       "    </tr>\n",
       "    <tr>\n",
       "      <th>31</th>\n",
       "      <td>5.0</td>\n",
       "      <td>5.0</td>\n",
       "      <td>5.0</td>\n",
       "      <td>5.0</td>\n",
       "      <td>4.0</td>\n",
       "      <td>5.0</td>\n",
       "      <td>5.0</td>\n",
       "      <td>MEDSLP</td>\n",
       "    </tr>\n",
       "    <tr>\n",
       "      <th>32</th>\n",
       "      <td>4.0</td>\n",
       "      <td>4.0</td>\n",
       "      <td>3.0</td>\n",
       "      <td>4.0</td>\n",
       "      <td>4.0</td>\n",
       "      <td>4.0</td>\n",
       "      <td>4.0</td>\n",
       "      <td>M E</td>\n",
       "    </tr>\n",
       "    <tr>\n",
       "      <th>34</th>\n",
       "      <td>3.0</td>\n",
       "      <td>3.0</td>\n",
       "      <td>3.0</td>\n",
       "      <td>3.0</td>\n",
       "      <td>2.0</td>\n",
       "      <td>1.0</td>\n",
       "      <td>3.0</td>\n",
       "      <td>M E</td>\n",
       "    </tr>\n",
       "    <tr>\n",
       "      <th>35</th>\n",
       "      <td>3.0</td>\n",
       "      <td>3.0</td>\n",
       "      <td>2.0</td>\n",
       "      <td>4.0</td>\n",
       "      <td>3.0</td>\n",
       "      <td>3.0</td>\n",
       "      <td>2.0</td>\n",
       "      <td>COM E</td>\n",
       "    </tr>\n",
       "    <tr>\n",
       "      <th>36</th>\n",
       "      <td>4.0</td>\n",
       "      <td>4.0</td>\n",
       "      <td>3.0</td>\n",
       "      <td>4.0</td>\n",
       "      <td>3.0</td>\n",
       "      <td>2.0</td>\n",
       "      <td>2.0</td>\n",
       "      <td>M E</td>\n",
       "    </tr>\n",
       "    <tr>\n",
       "      <th>...</th>\n",
       "      <td>...</td>\n",
       "      <td>...</td>\n",
       "      <td>...</td>\n",
       "      <td>...</td>\n",
       "      <td>...</td>\n",
       "      <td>...</td>\n",
       "      <td>...</td>\n",
       "      <td>...</td>\n",
       "    </tr>\n",
       "    <tr>\n",
       "      <th>6265</th>\n",
       "      <td>4.0</td>\n",
       "      <td>4.0</td>\n",
       "      <td>4.0</td>\n",
       "      <td>4.0</td>\n",
       "      <td>2.0</td>\n",
       "      <td>1.0</td>\n",
       "      <td>3.0</td>\n",
       "      <td>CFRM</td>\n",
       "    </tr>\n",
       "    <tr>\n",
       "      <th>6266</th>\n",
       "      <td>4.0</td>\n",
       "      <td>3.0</td>\n",
       "      <td>4.0</td>\n",
       "      <td>4.0</td>\n",
       "      <td>4.0</td>\n",
       "      <td>2.0</td>\n",
       "      <td>3.0</td>\n",
       "      <td>REHABX</td>\n",
       "    </tr>\n",
       "    <tr>\n",
       "      <th>6267</th>\n",
       "      <td>4.0</td>\n",
       "      <td>4.0</td>\n",
       "      <td>4.0</td>\n",
       "      <td>4.0</td>\n",
       "      <td>4.0</td>\n",
       "      <td>4.0</td>\n",
       "      <td>4.0</td>\n",
       "      <td>CSE E</td>\n",
       "    </tr>\n",
       "    <tr>\n",
       "      <th>6268</th>\n",
       "      <td>5.0</td>\n",
       "      <td>5.0</td>\n",
       "      <td>4.0</td>\n",
       "      <td>5.0</td>\n",
       "      <td>5.0</td>\n",
       "      <td>3.0</td>\n",
       "      <td>4.0</td>\n",
       "      <td>MUSEOX</td>\n",
       "    </tr>\n",
       "    <tr>\n",
       "      <th>6269</th>\n",
       "      <td>5.0</td>\n",
       "      <td>4.0</td>\n",
       "      <td>4.0</td>\n",
       "      <td>5.0</td>\n",
       "      <td>5.0</td>\n",
       "      <td>5.0</td>\n",
       "      <td>5.0</td>\n",
       "      <td>M E</td>\n",
       "    </tr>\n",
       "    <tr>\n",
       "      <th>6270</th>\n",
       "      <td>4.0</td>\n",
       "      <td>4.0</td>\n",
       "      <td>4.0</td>\n",
       "      <td>4.0</td>\n",
       "      <td>3.0</td>\n",
       "      <td>4.0</td>\n",
       "      <td>3.0</td>\n",
       "      <td>SOCWEH</td>\n",
       "    </tr>\n",
       "    <tr>\n",
       "      <th>6271</th>\n",
       "      <td>4.0</td>\n",
       "      <td>4.0</td>\n",
       "      <td>4.0</td>\n",
       "      <td>4.0</td>\n",
       "      <td>5.0</td>\n",
       "      <td>4.0</td>\n",
       "      <td>4.0</td>\n",
       "      <td>CFRM</td>\n",
       "    </tr>\n",
       "    <tr>\n",
       "      <th>6272</th>\n",
       "      <td>4.0</td>\n",
       "      <td>4.0</td>\n",
       "      <td>4.0</td>\n",
       "      <td>4.0</td>\n",
       "      <td>4.0</td>\n",
       "      <td>3.0</td>\n",
       "      <td>3.0</td>\n",
       "      <td>HSERV</td>\n",
       "    </tr>\n",
       "    <tr>\n",
       "      <th>6273</th>\n",
       "      <td>2.0</td>\n",
       "      <td>3.0</td>\n",
       "      <td>2.0</td>\n",
       "      <td>5.0</td>\n",
       "      <td>4.0</td>\n",
       "      <td>5.0</td>\n",
       "      <td>1.0</td>\n",
       "      <td>EDUCX</td>\n",
       "    </tr>\n",
       "    <tr>\n",
       "      <th>6274</th>\n",
       "      <td>4.0</td>\n",
       "      <td>4.0</td>\n",
       "      <td>4.0</td>\n",
       "      <td>4.0</td>\n",
       "      <td>4.0</td>\n",
       "      <td>4.0</td>\n",
       "      <td>2.0</td>\n",
       "      <td>SOCWEH</td>\n",
       "    </tr>\n",
       "    <tr>\n",
       "      <th>6275</th>\n",
       "      <td>3.0</td>\n",
       "      <td>4.0</td>\n",
       "      <td>2.0</td>\n",
       "      <td>3.0</td>\n",
       "      <td>4.0</td>\n",
       "      <td>4.0</td>\n",
       "      <td>3.0</td>\n",
       "      <td>SCM</td>\n",
       "    </tr>\n",
       "    <tr>\n",
       "      <th>6276</th>\n",
       "      <td>5.0</td>\n",
       "      <td>5.0</td>\n",
       "      <td>5.0</td>\n",
       "      <td>5.0</td>\n",
       "      <td>5.0</td>\n",
       "      <td>5.0</td>\n",
       "      <td>5.0</td>\n",
       "      <td>TMMBA</td>\n",
       "    </tr>\n",
       "    <tr>\n",
       "      <th>6277</th>\n",
       "      <td>4.0</td>\n",
       "      <td>4.0</td>\n",
       "      <td>3.0</td>\n",
       "      <td>4.0</td>\n",
       "      <td>5.0</td>\n",
       "      <td>5.0</td>\n",
       "      <td>4.0</td>\n",
       "      <td>HCDEE</td>\n",
       "    </tr>\n",
       "    <tr>\n",
       "      <th>6278</th>\n",
       "      <td>2.0</td>\n",
       "      <td>2.0</td>\n",
       "      <td>3.0</td>\n",
       "      <td>1.0</td>\n",
       "      <td>1.0</td>\n",
       "      <td>3.0</td>\n",
       "      <td>2.0</td>\n",
       "      <td>AMATH</td>\n",
       "    </tr>\n",
       "    <tr>\n",
       "      <th>6293</th>\n",
       "      <td>5.0</td>\n",
       "      <td>5.0</td>\n",
       "      <td>5.0</td>\n",
       "      <td>5.0</td>\n",
       "      <td>5.0</td>\n",
       "      <td>5.0</td>\n",
       "      <td>5.0</td>\n",
       "      <td>EDUCX</td>\n",
       "    </tr>\n",
       "    <tr>\n",
       "      <th>6295</th>\n",
       "      <td>3.0</td>\n",
       "      <td>5.0</td>\n",
       "      <td>4.0</td>\n",
       "      <td>4.0</td>\n",
       "      <td>4.0</td>\n",
       "      <td>4.0</td>\n",
       "      <td>4.0</td>\n",
       "      <td>HIHIME</td>\n",
       "    </tr>\n",
       "    <tr>\n",
       "      <th>6304</th>\n",
       "      <td>4.0</td>\n",
       "      <td>4.0</td>\n",
       "      <td>4.0</td>\n",
       "      <td>4.0</td>\n",
       "      <td>4.0</td>\n",
       "      <td>4.0</td>\n",
       "      <td>1.0</td>\n",
       "      <td>NURSX</td>\n",
       "    </tr>\n",
       "    <tr>\n",
       "      <th>6314</th>\n",
       "      <td>5.0</td>\n",
       "      <td>5.0</td>\n",
       "      <td>4.0</td>\n",
       "      <td>4.0</td>\n",
       "      <td>4.0</td>\n",
       "      <td>4.0</td>\n",
       "      <td>4.0</td>\n",
       "      <td>SCM</td>\n",
       "    </tr>\n",
       "    <tr>\n",
       "      <th>6315</th>\n",
       "      <td>5.0</td>\n",
       "      <td>5.0</td>\n",
       "      <td>4.0</td>\n",
       "      <td>5.0</td>\n",
       "      <td>5.0</td>\n",
       "      <td>5.0</td>\n",
       "      <td>4.0</td>\n",
       "      <td>NURSX</td>\n",
       "    </tr>\n",
       "    <tr>\n",
       "      <th>6316</th>\n",
       "      <td>4.0</td>\n",
       "      <td>4.0</td>\n",
       "      <td>4.0</td>\n",
       "      <td>4.0</td>\n",
       "      <td>5.0</td>\n",
       "      <td>4.0</td>\n",
       "      <td>4.0</td>\n",
       "      <td>EMBA</td>\n",
       "    </tr>\n",
       "    <tr>\n",
       "      <th>6318</th>\n",
       "      <td>5.0</td>\n",
       "      <td>5.0</td>\n",
       "      <td>5.0</td>\n",
       "      <td>5.0</td>\n",
       "      <td>5.0</td>\n",
       "      <td>4.0</td>\n",
       "      <td>4.0</td>\n",
       "      <td>NURSX</td>\n",
       "    </tr>\n",
       "    <tr>\n",
       "      <th>6319</th>\n",
       "      <td>5.0</td>\n",
       "      <td>5.0</td>\n",
       "      <td>5.0</td>\n",
       "      <td>5.0</td>\n",
       "      <td>5.0</td>\n",
       "      <td>5.0</td>\n",
       "      <td>2.0</td>\n",
       "      <td>NURSX</td>\n",
       "    </tr>\n",
       "    <tr>\n",
       "      <th>6320</th>\n",
       "      <td>4.0</td>\n",
       "      <td>4.0</td>\n",
       "      <td>4.0</td>\n",
       "      <td>4.0</td>\n",
       "      <td>4.0</td>\n",
       "      <td>4.0</td>\n",
       "      <td>5.0</td>\n",
       "      <td>NURSX</td>\n",
       "    </tr>\n",
       "    <tr>\n",
       "      <th>6321</th>\n",
       "      <td>4.0</td>\n",
       "      <td>4.0</td>\n",
       "      <td>4.0</td>\n",
       "      <td>4.0</td>\n",
       "      <td>4.0</td>\n",
       "      <td>3.0</td>\n",
       "      <td>4.0</td>\n",
       "      <td>NURSX</td>\n",
       "    </tr>\n",
       "    <tr>\n",
       "      <th>6322</th>\n",
       "      <td>5.0</td>\n",
       "      <td>5.0</td>\n",
       "      <td>5.0</td>\n",
       "      <td>5.0</td>\n",
       "      <td>5.0</td>\n",
       "      <td>5.0</td>\n",
       "      <td>5.0</td>\n",
       "      <td>NURSX</td>\n",
       "    </tr>\n",
       "    <tr>\n",
       "      <th>6323</th>\n",
       "      <td>5.0</td>\n",
       "      <td>5.0</td>\n",
       "      <td>5.0</td>\n",
       "      <td>5.0</td>\n",
       "      <td>5.0</td>\n",
       "      <td>4.0</td>\n",
       "      <td>5.0</td>\n",
       "      <td>NURSX</td>\n",
       "    </tr>\n",
       "    <tr>\n",
       "      <th>6324</th>\n",
       "      <td>3.0</td>\n",
       "      <td>5.0</td>\n",
       "      <td>3.0</td>\n",
       "      <td>2.0</td>\n",
       "      <td>5.0</td>\n",
       "      <td>5.0</td>\n",
       "      <td>2.0</td>\n",
       "      <td>NURSX</td>\n",
       "    </tr>\n",
       "    <tr>\n",
       "      <th>6325</th>\n",
       "      <td>4.0</td>\n",
       "      <td>5.0</td>\n",
       "      <td>4.0</td>\n",
       "      <td>5.0</td>\n",
       "      <td>5.0</td>\n",
       "      <td>5.0</td>\n",
       "      <td>5.0</td>\n",
       "      <td>NURSX</td>\n",
       "    </tr>\n",
       "    <tr>\n",
       "      <th>6326</th>\n",
       "      <td>5.0</td>\n",
       "      <td>5.0</td>\n",
       "      <td>5.0</td>\n",
       "      <td>5.0</td>\n",
       "      <td>5.0</td>\n",
       "      <td>5.0</td>\n",
       "      <td>5.0</td>\n",
       "      <td>NURSX</td>\n",
       "    </tr>\n",
       "    <tr>\n",
       "      <th>6328</th>\n",
       "      <td>5.0</td>\n",
       "      <td>5.0</td>\n",
       "      <td>4.0</td>\n",
       "      <td>4.0</td>\n",
       "      <td>4.0</td>\n",
       "      <td>4.0</td>\n",
       "      <td>3.0</td>\n",
       "      <td>NURSX</td>\n",
       "    </tr>\n",
       "  </tbody>\n",
       "</table>\n",
       "<p>5345 rows × 8 columns</p>\n",
       "</div>"
      ],
      "text/plain": [
       "      Q3_1  Q3_2  Q3_3  Q3_4  Q3_5  Q3_6  Q3_7   major\n",
       "0      4.0   4.0   4.0   4.0   3.0   3.0   3.0   NURSX\n",
       "2      4.0   5.0   4.0   5.0   3.0   5.0   4.0  SOCWEH\n",
       "3      5.0   5.0   5.0   5.0   5.0   5.0   2.0  BIOMRX\n",
       "4      4.0   4.0   5.0   4.0   3.0   4.0   3.0  SOCWEH\n",
       "5      3.0   3.0   3.0   3.0   3.0   3.0   3.0   HCDEE\n",
       "6      4.0   4.0   4.0   4.0   4.0   4.0   4.0   MEDXM\n",
       "7      4.0   4.0   3.0   4.0   3.0   1.0   1.0   HA GX\n",
       "8      5.0   4.0   5.0   5.0   5.0   5.0   4.0   LIS X\n",
       "9      4.0   4.0   4.0   4.0   4.0   4.0   4.0   COM E\n",
       "10     4.0   4.0   3.0   3.0   5.0   5.0   4.0  MBA EX\n",
       "11     5.0   5.0   5.0   5.0   5.0   3.0   5.0    CFRM\n",
       "13     2.0   2.0   1.0   1.0   2.0   2.0   2.0  SOCWEH\n",
       "14     4.0   4.0   4.0   4.0   5.0   5.0   5.0  MBA EX\n",
       "15     4.0   4.0   3.0   3.0   4.0   4.0   2.0   NURSX\n",
       "18     4.0   4.0   3.0   4.0   5.0   3.0   5.0     E E\n",
       "19     4.0   4.0   3.0   4.0   5.0   3.0   5.0     E E\n",
       "20     4.0   4.0   4.0   5.0   4.0   4.0   4.0   COM E\n",
       "21     3.0   3.0   4.0   3.0   3.0   3.0   1.0     E E\n",
       "23     4.0   3.0   4.0   4.0   4.0   4.0   3.0  MBA EX\n",
       "24     4.0   5.0   4.0   4.0   4.0   3.0   3.0     M E\n",
       "25     3.0   3.0   3.0   3.0   3.0   3.0   3.0   IND E\n",
       "26     4.0   4.0   4.0   4.0   4.0   4.0   4.0    LING\n",
       "27     5.0   5.0   4.0   5.0   5.0   3.0   3.0    CFRM\n",
       "28     3.0   4.0   2.0   2.0   5.0   5.0   2.0   LIS X\n",
       "29     4.0   5.0   4.0   4.0   4.0   3.0   3.0     M E\n",
       "31     5.0   5.0   5.0   5.0   4.0   5.0   5.0  MEDSLP\n",
       "32     4.0   4.0   3.0   4.0   4.0   4.0   4.0     M E\n",
       "34     3.0   3.0   3.0   3.0   2.0   1.0   3.0     M E\n",
       "35     3.0   3.0   2.0   4.0   3.0   3.0   2.0   COM E\n",
       "36     4.0   4.0   3.0   4.0   3.0   2.0   2.0     M E\n",
       "...    ...   ...   ...   ...   ...   ...   ...     ...\n",
       "6265   4.0   4.0   4.0   4.0   2.0   1.0   3.0    CFRM\n",
       "6266   4.0   3.0   4.0   4.0   4.0   2.0   3.0  REHABX\n",
       "6267   4.0   4.0   4.0   4.0   4.0   4.0   4.0   CSE E\n",
       "6268   5.0   5.0   4.0   5.0   5.0   3.0   4.0  MUSEOX\n",
       "6269   5.0   4.0   4.0   5.0   5.0   5.0   5.0     M E\n",
       "6270   4.0   4.0   4.0   4.0   3.0   4.0   3.0  SOCWEH\n",
       "6271   4.0   4.0   4.0   4.0   5.0   4.0   4.0    CFRM\n",
       "6272   4.0   4.0   4.0   4.0   4.0   3.0   3.0   HSERV\n",
       "6273   2.0   3.0   2.0   5.0   4.0   5.0   1.0   EDUCX\n",
       "6274   4.0   4.0   4.0   4.0   4.0   4.0   2.0  SOCWEH\n",
       "6275   3.0   4.0   2.0   3.0   4.0   4.0   3.0     SCM\n",
       "6276   5.0   5.0   5.0   5.0   5.0   5.0   5.0   TMMBA\n",
       "6277   4.0   4.0   3.0   4.0   5.0   5.0   4.0   HCDEE\n",
       "6278   2.0   2.0   3.0   1.0   1.0   3.0   2.0   AMATH\n",
       "6293   5.0   5.0   5.0   5.0   5.0   5.0   5.0   EDUCX\n",
       "6295   3.0   5.0   4.0   4.0   4.0   4.0   4.0  HIHIME\n",
       "6304   4.0   4.0   4.0   4.0   4.0   4.0   1.0   NURSX\n",
       "6314   5.0   5.0   4.0   4.0   4.0   4.0   4.0     SCM\n",
       "6315   5.0   5.0   4.0   5.0   5.0   5.0   4.0  NURSX \n",
       "6316   4.0   4.0   4.0   4.0   5.0   4.0   4.0    EMBA\n",
       "6318   5.0   5.0   5.0   5.0   5.0   4.0   4.0  NURSX \n",
       "6319   5.0   5.0   5.0   5.0   5.0   5.0   2.0  NURSX \n",
       "6320   4.0   4.0   4.0   4.0   4.0   4.0   5.0  NURSX \n",
       "6321   4.0   4.0   4.0   4.0   4.0   3.0   4.0  NURSX \n",
       "6322   5.0   5.0   5.0   5.0   5.0   5.0   5.0  NURSX \n",
       "6323   5.0   5.0   5.0   5.0   5.0   4.0   5.0  NURSX \n",
       "6324   3.0   5.0   3.0   2.0   5.0   5.0   2.0  NURSX \n",
       "6325   4.0   5.0   4.0   5.0   5.0   5.0   5.0  NURSX \n",
       "6326   5.0   5.0   5.0   5.0   5.0   5.0   5.0  NURSX \n",
       "6328   5.0   5.0   4.0   4.0   4.0   4.0   3.0  NURSX \n",
       "\n",
       "[5345 rows x 8 columns]"
      ]
     },
     "execution_count": 7,
     "metadata": {},
     "output_type": "execute_result"
    }
   ],
   "source": [
    "df_others"
   ]
  },
  {
   "cell_type": "markdown",
   "metadata": {},
   "source": [
    "**2-sample t-test**"
   ]
  },
  {
   "cell_type": "markdown",
   "metadata": {},
   "source": [
    "*Null Hypothesis H0: u_EMPA=u_Others<br>\n",
    "Alternative H1: u_EMPA<u_Others*<br>\n",
    "where u_EMPA is the average ratings from EMPA students and u_Others is the average ratings from other fee-based program students<br>\n",
    "We define our alpha as 0.05"
   ]
  },
  {
   "cell_type": "code",
   "execution_count": 6,
   "metadata": {},
   "outputs": [
    {
     "name": "stdout",
     "output_type": "stream",
     "text": [
      "p of Inclusion of diverse perspectives= [0.01478659]\n"
     ]
    }
   ],
   "source": [
    "t2, p2 = stats.ttest_ind(df_others[['Q3_6']].values,df_empa[['Q3_6']].values)\n",
    "\n",
    "print(\"p of Inclusion of diverse perspectives= \" + str(p2/2))"
   ]
  },
  {
   "cell_type": "code",
   "execution_count": 125,
   "metadata": {},
   "outputs": [
    {
     "name": "stdout",
     "output_type": "stream",
     "text": [
      "p of Extent to which the program has kept pace with recent trends and developments in your field= [0.01815814]\n"
     ]
    }
   ],
   "source": [
    "t2, p2 = stats.ttest_ind(df_others[['Q3_4']].values,df_empa[['Q3_4']].values)\n",
    "\n",
    "print(\"p of Extent to which the program has kept pace with recent trends and developments in your field= \" + str(p2/2))"
   ]
  },
  {
   "cell_type": "code",
   "execution_count": 126,
   "metadata": {},
   "outputs": [
    {
     "name": "stdout",
     "output_type": "stream",
     "text": [
      "p of Benefit versus cost of the program[0.01361567]\n"
     ]
    }
   ],
   "source": [
    "t2, p2 = stats.ttest_ind(df_others[['Q3_7']].values,df_empa[['Q3_7']].values)\n",
    "\n",
    "print(\"p of Benefit versus cost of the program\" + str(p2/2))"
   ]
  },
  {
   "cell_type": "code",
   "execution_count": 127,
   "metadata": {},
   "outputs": [
    {
     "name": "stdout",
     "output_type": "stream",
     "text": [
      "p of Overall Quality = [0.29391385]\n"
     ]
    }
   ],
   "source": [
    "t2, p2 = stats.ttest_ind(df_others[['Q3_1']].values,df_empa[['Q3_1']].values)\n",
    "\n",
    "print(\"p of Overall Quality = \" + str(p2/2))"
   ]
  },
  {
   "cell_type": "markdown",
   "metadata": {},
   "source": [
    "We can reject the null hypothesis in the first three categories, but there is no significant evidence showing that the overall quality of EMPA program is worse than the other fee-based ones.<br>\n",
    "Let's continue to do the 2-sample proportion z-test on the proportions of EMPA students and others giving poor and fair ratings on these four categories."
   ]
  },
  {
   "cell_type": "markdown",
   "metadata": {},
   "source": [
    "**Data Preprocessing**"
   ]
  },
  {
   "cell_type": "code",
   "execution_count": 128,
   "metadata": {},
   "outputs": [],
   "source": [
    "df_t= pd.read_csv(\"C:\\\\Users\\\\gtang\\\\Desktop\\\\MES\\\\MES_TT.csv\")\n",
    "df_empa1=df_t[(df_t.major=='EMPA')].iloc[:,0:7].apply(pd.Series.value_counts)\n",
    "df_empa1 = df_empa1.replace(np.nan, 0)\n",
    "totale=df_empa1.sum()\n",
    "df_empa1=df_empa1.transpose()\n",
    "df_empa1.drop(['Good','Very Good','Excellent'],axis=1,inplace=True)\n",
    "empa=df_empa1.sum(axis=1)"
   ]
  },
  {
   "cell_type": "code",
   "execution_count": 129,
   "metadata": {},
   "outputs": [],
   "source": [
    "df_others1=df_t[(df_t.major!='EMPA')].iloc[:,0:7].apply(pd.Series.value_counts)\n",
    "df_others1 = df_others1.replace(np.nan, 0)\n",
    "totalo=df_others1.sum()\n",
    "df_others1=df_others1.transpose()\n",
    "df_others1.drop(['Good','Very Good','Excellent'],axis=1,inplace=True)\n",
    "others=df_others1.sum(axis=1)"
   ]
  },
  {
   "cell_type": "markdown",
   "metadata": {},
   "source": [
    "**2-proportion z-test**"
   ]
  },
  {
   "cell_type": "markdown",
   "metadata": {},
   "source": [
    "*Null Hypothesis H0: p_EMPA=p_Others*<br> \n",
    "*Alternative H1: p_EMPA>p_Others*<br>\n",
    "where p_EMPA is the proportion of EMPA students who give poor and fair ratings and p_Others is the proportion of other fee-based program students who give poor and fair ratings<br>\n",
    "We define our alpha as 0.05"
   ]
  },
  {
   "cell_type": "code",
   "execution_count": 130,
   "metadata": {},
   "outputs": [],
   "source": [
    "import numpy as np\n",
    "def two_proportion_z(y1,n1,y2,n2):\n",
    "    p1=y1/n1\n",
    "    p2=y2/n2\n",
    "    p = (p1 * n1 + p2 * n2) / (n1 + n2)\n",
    "    se = np.sqrt((p*(1-p))*((1/n1)+(1/n2)))\n",
    "    z = (p1-p2)/se\n",
    "    print('p value:',1-stats.norm.cdf(z))"
   ]
  },
  {
   "cell_type": "code",
   "execution_count": 131,
   "metadata": {},
   "outputs": [
    {
     "name": "stdout",
     "output_type": "stream",
     "text": [
      "p value: 0.019651491705923285\n",
      "p value: 0.022498004041894726\n",
      "p value: 0.12904113656541516\n",
      "p value: 0.8065013632861502\n"
     ]
    }
   ],
   "source": [
    "two_proportion_z(empa[5],totale[5],others[5],totalo[5])\n",
    "two_proportion_z(empa[3],totale[3],others[3],totalo[3])\n",
    "two_proportion_z(empa[6],totale[6],others[6],totalo[6])\n",
    "two_proportion_z(empa[0],totale[0],others[0],totalo[0])"
   ]
  },
  {
   "cell_type": "markdown",
   "metadata": {},
   "source": [
    "**Conclusion**"
   ]
  },
  {
   "cell_type": "markdown",
   "metadata": {},
   "source": [
    "Based on the above p values, we can conclude that EMPA students tend to give more negative reviews on the following items than other programs' students:\n",
    "1. Inclusion of diverse perspectives (political, religious, racial/ethnic, gender, sexual orientation, etc.) in course discussions or assignments(Q3_6)\n",
    "2. Extent to which the program has kept pace with recent trends and developments in your field(Q3_4)**"
   ]
  },
  {
   "cell_type": "markdown",
   "metadata": {},
   "source": [
    "Please also note that the above items' ratings and the rating on Benefit versus cost of the program from EMPA students are below average."
   ]
  },
  {
   "cell_type": "markdown",
   "metadata": {},
   "source": [
    "<a id=\"ref1\"></a>\n",
    "## Section 2"
   ]
  },
  {
   "cell_type": "markdown",
   "metadata": {},
   "source": [
    "It is very obvious that EMPA program received the negative ratings in internship options(12) the most from our data visualization.\n",
    "Other aspects that we need to pay close attention to are: academic advising(5), accessibility of UW resources(6), research resources(9), availability of financial support(11), student networking opportunities(13), and admission services(14).\n"
   ]
  },
  {
   "cell_type": "markdown",
   "metadata": {},
   "source": [
    "**Data Import**"
   ]
  },
  {
   "cell_type": "code",
   "execution_count": 132,
   "metadata": {},
   "outputs": [],
   "source": [
    "df= pd.read_csv(\"C:\\\\Users\\\\gtang\\\\Desktop\\\\MES\\\\MES_N_6.csv\")"
   ]
  },
  {
   "cell_type": "code",
   "execution_count": 133,
   "metadata": {},
   "outputs": [],
   "source": [
    "df_empa=df[(df.major=='EMPA')]"
   ]
  },
  {
   "cell_type": "code",
   "execution_count": 134,
   "metadata": {},
   "outputs": [
    {
     "name": "stderr",
     "output_type": "stream",
     "text": [
      "C:\\ProgramData\\Anaconda3\\lib\\site-packages\\ipykernel_launcher.py:1: SettingWithCopyWarning: \n",
      "A value is trying to be set on a copy of a slice from a DataFrame\n",
      "\n",
      "See the caveats in the documentation: http://pandas.pydata.org/pandas-docs/stable/indexing.html#indexing-view-versus-copy\n",
      "  \"\"\"Entry point for launching an IPython kernel.\n"
     ]
    }
   ],
   "source": [
    "df_empa.dropna(inplace=True)"
   ]
  },
  {
   "cell_type": "code",
   "execution_count": 135,
   "metadata": {},
   "outputs": [
    {
     "name": "stderr",
     "output_type": "stream",
     "text": [
      "C:\\ProgramData\\Anaconda3\\lib\\site-packages\\ipykernel_launcher.py:2: SettingWithCopyWarning: \n",
      "A value is trying to be set on a copy of a slice from a DataFrame\n",
      "\n",
      "See the caveats in the documentation: http://pandas.pydata.org/pandas-docs/stable/indexing.html#indexing-view-versus-copy\n",
      "  \n"
     ]
    }
   ],
   "source": [
    "df_others=df[(df.major!='EMPA')]\n",
    "df_others.dropna(inplace=True)"
   ]
  },
  {
   "cell_type": "markdown",
   "metadata": {},
   "source": [
    "**2-sample t-test**"
   ]
  },
  {
   "cell_type": "markdown",
   "metadata": {},
   "source": [
    "*Null Hypothesis H0: u_EMPA=u_Others<br>\n",
    "Alternative H1: u_EMPA<u_Others*<br>\n",
    "where u_EMPA is the average ratings from EMPA students and u_Others is the average ratings from other fee-based program students<br>\n",
    "We define our alpha as 0.05"
   ]
  },
  {
   "cell_type": "code",
   "execution_count": 136,
   "metadata": {},
   "outputs": [
    {
     "name": "stdout",
     "output_type": "stream",
     "text": [
      "p of internship options [0.24003867]\n"
     ]
    }
   ],
   "source": [
    "t2, p2 = stats.ttest_ind(df_others[['Q6_12']].values,df_empa[['Q6_12']].values)\n",
    "\n",
    "print(\"p of internship options \" + str(p2/2))"
   ]
  },
  {
   "cell_type": "code",
   "execution_count": 137,
   "metadata": {},
   "outputs": [
    {
     "name": "stdout",
     "output_type": "stream",
     "text": [
      "p of academic advising[0.22283072]\n"
     ]
    }
   ],
   "source": [
    "t2, p2 = stats.ttest_ind(df_others[['Q6_5']].values,df_empa[['Q6_5']].values)\n",
    "\n",
    "print(\"p of academic advising\" + str(p2/2))"
   ]
  },
  {
   "cell_type": "code",
   "execution_count": 138,
   "metadata": {},
   "outputs": [
    {
     "name": "stdout",
     "output_type": "stream",
     "text": [
      "p of accessibility of UW resources[0.05176785]\n"
     ]
    }
   ],
   "source": [
    "t2, p2 = stats.ttest_ind(df_others[['Q6_6']].values,df_empa[['Q6_6']].values)\n",
    "\n",
    "print(\"p of accessibility of UW resources\" + str(p2/2))"
   ]
  },
  {
   "cell_type": "code",
   "execution_count": 139,
   "metadata": {},
   "outputs": [
    {
     "name": "stdout",
     "output_type": "stream",
     "text": [
      "p of research resources [0.01723138]\n"
     ]
    }
   ],
   "source": [
    "t2, p2 = stats.ttest_ind(df_others[['Q6_9']].values,df_empa[['Q6_9']].values)\n",
    "\n",
    "print(\"p of research resources \" + str(p2/2))"
   ]
  },
  {
   "cell_type": "code",
   "execution_count": 140,
   "metadata": {},
   "outputs": [
    {
     "name": "stdout",
     "output_type": "stream",
     "text": [
      "p of availability of financial support  [0.45537123]\n"
     ]
    }
   ],
   "source": [
    "t2, p2 = stats.ttest_ind(df_others[['Q6_11']].values,df_empa[['Q6_11']].values)\n",
    "\n",
    "print(\"p of availability of financial support  \" + str(p2/2))"
   ]
  },
  {
   "cell_type": "code",
   "execution_count": 141,
   "metadata": {},
   "outputs": [
    {
     "name": "stdout",
     "output_type": "stream",
     "text": [
      "p of student networking opportunities[0.06678924]\n"
     ]
    }
   ],
   "source": [
    "t2, p2 = stats.ttest_ind(df_others[['Q6_13']].values,df_empa[['Q6_13']].values)\n",
    "\n",
    "print(\"p of student networking opportunities\" + str(p2/2))"
   ]
  },
  {
   "cell_type": "code",
   "execution_count": 142,
   "metadata": {},
   "outputs": [
    {
     "name": "stdout",
     "output_type": "stream",
     "text": [
      "p of admission services [0.07699615]\n"
     ]
    }
   ],
   "source": [
    "t2, p2 = stats.ttest_ind(df_others[['Q6_14']].values,df_empa[['Q6_14']].values)\n",
    "\n",
    "print(\"p of admission services \" + str(p2/2))"
   ]
  },
  {
   "cell_type": "markdown",
   "metadata": {},
   "source": [
    "**Data Preprocessing**"
   ]
  },
  {
   "cell_type": "code",
   "execution_count": 143,
   "metadata": {},
   "outputs": [],
   "source": [
    "df_t= pd.read_csv(\"C:\\\\Users\\\\gtang\\\\Desktop\\\\MES\\\\MES_TT.csv\")\n",
    "df_empa1=df_t[(df_t.major=='EMPA')].iloc[:,7:22].apply(pd.Series.value_counts)\n",
    "df_empa1 = df_empa1.replace(np.nan, 0)\n",
    "totale=df_empa1.sum()\n",
    "df_empa1=df_empa1.transpose()\n",
    "df_empa1.drop(['Good','Very Good','Excellent'],axis=1,inplace=True)\n",
    "empa=df_empa1.sum(axis=1)"
   ]
  },
  {
   "cell_type": "code",
   "execution_count": 144,
   "metadata": {},
   "outputs": [],
   "source": [
    "df_others1=df_t[(df_t.major!='EMPA')].iloc[:,7:22].apply(pd.Series.value_counts)\n",
    "df_others1 = df_others1.replace(np.nan, 0)\n",
    "totalo=df_others1.sum()\n",
    "df_others1=df_others1.transpose()\n",
    "df_others1.drop(['Good','Very Good','Excellent'],axis=1,inplace=True)\n",
    "others=df_others1.sum(axis=1)"
   ]
  },
  {
   "cell_type": "markdown",
   "metadata": {},
   "source": [
    "**2-proportion z-test**"
   ]
  },
  {
   "cell_type": "markdown",
   "metadata": {},
   "source": [
    "*Null Hypothesis H0: p_EMPA=p_Others*<br> \n",
    "*Alternative H1: p_EMPA>p_Others*<br>\n",
    "where p_EMPA is the proportion of EMPA students who give poor and fair ratings and p_Others is the proportion of other fee-based program students who give poor and fair ratings<br>\n",
    "We define our alpha as 0.05"
   ]
  },
  {
   "cell_type": "code",
   "execution_count": 145,
   "metadata": {},
   "outputs": [],
   "source": [
    "import numpy as np\n",
    "def two_proportion_z(y1,n1,y2,n2):\n",
    "    p1=y1/n1\n",
    "    p2=y2/n2\n",
    "    p = (p1 * n1 + p2 * n2) / (n1 + n2)\n",
    "    se = np.sqrt((p*(1-p))*((1/n1)+(1/n2)))\n",
    "    z = (p1-p2)/se\n",
    "    print('p value:',1-stats.norm.cdf(z))"
   ]
  },
  {
   "cell_type": "code",
   "execution_count": 146,
   "metadata": {},
   "outputs": [
    {
     "name": "stdout",
     "output_type": "stream",
     "text": [
      "p value: 0.00844281750111986\n",
      "p value: 0.1782971655707445\n",
      "p value: 0.058936312733272045\n",
      "p value: 0.0843314539393214\n",
      "p value: 0.237775002152391\n",
      "p value: 0.14065184742637893\n",
      "p value: 0.19881029169401543\n"
     ]
    }
   ],
   "source": [
    "two_proportion_z(empa[11],totale[11],others[11],totalo[11])\n",
    "two_proportion_z(empa[4],totale[4],others[4],totalo[4])\n",
    "two_proportion_z(empa[5],totale[5],others[5],totalo[5])\n",
    "two_proportion_z(empa[8],totale[8],others[8],totalo[8])\n",
    "two_proportion_z(empa[10],totale[10],others[10],totalo[10])\n",
    "two_proportion_z(empa[12],totale[12],others[12],totalo[12])\n",
    "two_proportion_z(empa[13],totale[13],others[13],totalo[13])"
   ]
  },
  {
   "cell_type": "markdown",
   "metadata": {},
   "source": [
    "**Conclusion**"
   ]
  },
  {
   "cell_type": "markdown",
   "metadata": {},
   "source": [
    "Combining the above tests, we are confident the average of EMPA students'ratings on research resources is worse than the average of other fee-based program students'. Even though we can not conclude that EMPA students tend to give more negative ratings to research resources(the proportion z-test p value is greater than alpha), we can be 95% certain that EMPA tend to give more negative ratings to the internship options that the program can provide than other fee-based program students."
   ]
  },
  {
   "cell_type": "markdown",
   "metadata": {},
   "source": [
    "<a id=\"ref1\"></a>\n",
    "## Section 3"
   ]
  },
  {
   "cell_type": "markdown",
   "metadata": {},
   "source": [
    "From our previous descirptive statistical analysis, we know that\n",
    "The EMPA students tend to disagree more with the following statements: \n",
    "(from the highest disagreement percentage difference between EMPA students and Other students to the lowest)\n",
    "1. I saw myself and people of my background in course materials and examples(9)\n",
    "2. I received positive mentorship in my program(10)\n",
    "3. My program reflects an openness to diverse perspectives (political, religious, racial/ethnic, gender, sexual orientation, etc.(8)\n",
    "4. I felt encouraged and supported in my program(5)\n",
    "5. I felt encouraged and supported in my school/college(6)"
   ]
  },
  {
   "cell_type": "markdown",
   "metadata": {},
   "source": [
    "**Data Import**"
   ]
  },
  {
   "cell_type": "code",
   "execution_count": 147,
   "metadata": {},
   "outputs": [],
   "source": [
    "df= pd.read_csv(\"C:\\\\Users\\\\gtang\\\\Desktop\\\\MES\\\\MES_N_12.csv\")"
   ]
  },
  {
   "cell_type": "code",
   "execution_count": 148,
   "metadata": {},
   "outputs": [],
   "source": [
    "df_empa=df[(df.major=='EMPA')]"
   ]
  },
  {
   "cell_type": "code",
   "execution_count": 149,
   "metadata": {},
   "outputs": [
    {
     "name": "stderr",
     "output_type": "stream",
     "text": [
      "C:\\ProgramData\\Anaconda3\\lib\\site-packages\\ipykernel_launcher.py:2: SettingWithCopyWarning: \n",
      "A value is trying to be set on a copy of a slice from a DataFrame\n",
      "\n",
      "See the caveats in the documentation: http://pandas.pydata.org/pandas-docs/stable/indexing.html#indexing-view-versus-copy\n",
      "  \n"
     ]
    }
   ],
   "source": [
    "df_others=df[(df.major!='EMPA')]\n",
    "df_others.dropna(inplace=True)"
   ]
  },
  {
   "cell_type": "code",
   "execution_count": 150,
   "metadata": {},
   "outputs": [
    {
     "name": "stderr",
     "output_type": "stream",
     "text": [
      "C:\\ProgramData\\Anaconda3\\lib\\site-packages\\ipykernel_launcher.py:1: SettingWithCopyWarning: \n",
      "A value is trying to be set on a copy of a slice from a DataFrame\n",
      "\n",
      "See the caveats in the documentation: http://pandas.pydata.org/pandas-docs/stable/indexing.html#indexing-view-versus-copy\n",
      "  \"\"\"Entry point for launching an IPython kernel.\n"
     ]
    }
   ],
   "source": [
    "df_empa.dropna(inplace=True)"
   ]
  },
  {
   "cell_type": "markdown",
   "metadata": {},
   "source": [
    "**2-sample t-test**"
   ]
  },
  {
   "cell_type": "markdown",
   "metadata": {},
   "source": [
    "*Null Hypothesis H0: u_EMPA=u_Others<br>\n",
    "Alternative H1: u_EMPA<u_Others*<br>\n",
    "where u_EMPA is the average ratings from EMPA students and u_Others is the average ratings from other fee-based program students<br>\n",
    "We define our alpha as 0.05"
   ]
  },
  {
   "cell_type": "code",
   "execution_count": 151,
   "metadata": {},
   "outputs": [
    {
     "name": "stdout",
     "output_type": "stream",
     "text": [
      "p of I saw myself and people of my background in course materials and examples [1.64152295e-06]\n"
     ]
    }
   ],
   "source": [
    "t2, p2 = stats.ttest_ind(df_others[['Q12_9']].values,df_empa[['Q12_9']].values)\n",
    "\n",
    "print(\"p of I saw myself and people of my background in course materials and examples \" + str(p2/2))"
   ]
  },
  {
   "cell_type": "markdown",
   "metadata": {},
   "source": [
    "Our test is statistically significant because our p value is smaller than alpha, and we can reject the null hypothesis."
   ]
  },
  {
   "cell_type": "code",
   "execution_count": 152,
   "metadata": {},
   "outputs": [
    {
     "name": "stdout",
     "output_type": "stream",
     "text": [
      "p of I received positive mentorship in my program [2.20475584e-05]\n"
     ]
    }
   ],
   "source": [
    "t2, p2 = stats.ttest_ind(df_others[['Q12_10']].values,df_empa[['Q12_10']].values)\n",
    "\n",
    "print(\"p of I received positive mentorship in my program \" + str(p2/2))"
   ]
  },
  {
   "cell_type": "markdown",
   "metadata": {},
   "source": [
    "Our test is statistically significant because our p value is smaller than alpha, and we can reject the null hypothesis."
   ]
  },
  {
   "cell_type": "code",
   "execution_count": 153,
   "metadata": {},
   "outputs": [
    {
     "name": "stdout",
     "output_type": "stream",
     "text": [
      "p of My program reflects an openness to diverse perspectives [0.00380323]\n"
     ]
    }
   ],
   "source": [
    "t2, p2 = stats.ttest_ind(df_others[['Q12_8']].values,df_empa[['Q12_8']].values)\n",
    "\n",
    "print(\"p of My program reflects an openness to diverse perspectives \" + str(p2/2))"
   ]
  },
  {
   "cell_type": "markdown",
   "metadata": {},
   "source": [
    "Our test is statistically significant because our p value is smaller than alpha, and we can reject the null hypothesis."
   ]
  },
  {
   "cell_type": "code",
   "execution_count": 154,
   "metadata": {},
   "outputs": [
    {
     "name": "stdout",
     "output_type": "stream",
     "text": [
      "p of I felt encouraged and supported in my program [0.25620213]\n"
     ]
    }
   ],
   "source": [
    "t2, p2 = stats.ttest_ind(df_others[['Q12_5']].values,df_empa[['Q12_5']].values)\n",
    "\n",
    "print(\"p of I felt encouraged and supported in my program \" + str(p2/2))"
   ]
  },
  {
   "cell_type": "markdown",
   "metadata": {},
   "source": [
    "Our test is not statistically significant because our p value is greater than alpha, and we can not reject the null hypothesis."
   ]
  },
  {
   "cell_type": "code",
   "execution_count": 155,
   "metadata": {},
   "outputs": [
    {
     "name": "stdout",
     "output_type": "stream",
     "text": [
      "p of I felt encouraged and supported in my school/college [0.22285065]\n"
     ]
    }
   ],
   "source": [
    "t2, p2 = stats.ttest_ind(df_others[['Q12_6']].values,df_empa[['Q12_6']].values)\n",
    "\n",
    "print(\"p of I felt encouraged and supported in my school/college \" + str(p2/2))"
   ]
  },
  {
   "cell_type": "markdown",
   "metadata": {},
   "source": [
    "Let's conduct two-proportion z-test on these three statements to decide if the \"strongly disagree\" and \"disagree\" ratings difference between EMPA students and other fee-based program students on the above statements is due to sample selection. "
   ]
  },
  {
   "cell_type": "markdown",
   "metadata": {},
   "source": [
    "**Data Preprocessing**"
   ]
  },
  {
   "cell_type": "code",
   "execution_count": 156,
   "metadata": {},
   "outputs": [],
   "source": [
    "df_t= pd.read_csv(\"C:\\\\Users\\\\gtang\\\\Desktop\\\\MES\\\\MES_TT.csv\")\n",
    "df_empa1=df_t[(df_t.major=='EMPA')].iloc[:,22:32].apply(pd.Series.value_counts)\n",
    "df_empa1 = df_empa1.replace(np.nan, 0)\n",
    "totale=df_empa1.sum()\n",
    "df_empa1=df_empa1.transpose()\n",
    "df_empa1.drop(['Agree','Neither Agree nor Disagree','Strongly Agree'],axis=1,inplace=True)\n",
    "empa=df_empa1.sum(axis=1)"
   ]
  },
  {
   "cell_type": "code",
   "execution_count": 157,
   "metadata": {},
   "outputs": [],
   "source": [
    "df_others1=df_t[(df_t.major!='EMPA')].iloc[:,22:32].apply(pd.Series.value_counts)\n",
    "df_others1 = df_others1.replace(np.nan, 0)\n",
    "totalo=df_others1.sum()\n",
    "df_others1=df_others1.transpose()\n",
    "df_others1.drop(['Agree','Neither Agree nor Disagree','Strongly Agree'],axis=1,inplace=True)\n",
    "others=df_others1.sum(axis=1)"
   ]
  },
  {
   "cell_type": "markdown",
   "metadata": {},
   "source": [
    "**2-proportion z-test**"
   ]
  },
  {
   "cell_type": "markdown",
   "metadata": {},
   "source": [
    "*Null Hypothesis H0: p_EMPA=p_Others*<br> \n",
    "*Alternative H1: p_EMPA>p_Others*<br>\n",
    "where p_EMPA is the proportion of EMPA students who give poor and fair ratings and p_Others is the proportion of other fee-based program students who give poor and fair ratings<br>\n",
    "We define our alpha as 0.05"
   ]
  },
  {
   "cell_type": "code",
   "execution_count": 158,
   "metadata": {},
   "outputs": [],
   "source": [
    "import numpy as np\n",
    "def two_proportion_z(y1,n1,y2,n2):\n",
    "    p1=y1/n1\n",
    "    p2=y2/n2\n",
    "    p = (p1 * n1 + p2 * n2) / (n1 + n2)\n",
    "    se = np.sqrt((p*(1-p))*((1/n1)+(1/n2)))\n",
    "    z = (p1-p2)/se\n",
    "    print('p value:',1-stats.norm.cdf(z))"
   ]
  },
  {
   "cell_type": "code",
   "execution_count": 159,
   "metadata": {},
   "outputs": [
    {
     "name": "stdout",
     "output_type": "stream",
     "text": [
      "p value: 1.3935985698765307e-10\n",
      "p value: 5.714918780763689e-05\n",
      "p value: 0.014492595760150384\n",
      "p value: 0.20577374780946767\n",
      "p value: 0.2608932521049081\n"
     ]
    }
   ],
   "source": [
    "two_proportion_z(empa[8],totale[8],others[8],totalo[8])\n",
    "two_proportion_z(empa[9],totale[9],others[9],totalo[9])\n",
    "two_proportion_z(empa[7],totale[7],others[7],totalo[7])\n",
    "two_proportion_z(empa[4],totale[4],others[4],totalo[4])\n",
    "two_proportion_z(empa[5],totale[5],others[5],totalo[5])"
   ]
  },
  {
   "cell_type": "markdown",
   "metadata": {},
   "source": [
    "**Conclusion**"
   ]
  },
  {
   "cell_type": "markdown",
   "metadata": {},
   "source": [
    "Based on the above p values and previous t-test results, we can confirm that EMPA students tend to give more negative reviews on the following statements than other programs' students:\n",
    "1. I saw myself and people of my background in course materials and examples(9)\n",
    "2. I received positive mentorship in my program(10)\n",
    "3. My program reflects an openness to diverse perspectives (political, religious, racial/ethnic, gender, sexual orientation, etc.(8)"
   ]
  },
  {
   "cell_type": "markdown",
   "metadata": {},
   "source": [
    "The above items' average ratings from EMPA students are also lower than those from other fee-based program students."
   ]
  },
  {
   "cell_type": "markdown",
   "metadata": {},
   "source": [
    "<a id=\"ref1\"></a>\n",
    "## Thanks for reading!"
   ]
  }
 ],
 "metadata": {
  "kernelspec": {
   "display_name": "Python 3",
   "language": "python",
   "name": "python3"
  },
  "language_info": {
   "codemirror_mode": {
    "name": "ipython",
    "version": 3
   },
   "file_extension": ".py",
   "mimetype": "text/x-python",
   "name": "python",
   "nbconvert_exporter": "python",
   "pygments_lexer": "ipython3",
   "version": "3.6.5"
  }
 },
 "nbformat": 4,
 "nbformat_minor": 2
}
